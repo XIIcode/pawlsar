{
 "cells": [
  {
   "cell_type": "markdown",
   "metadata": {},
   "source": [
    "###   OWNER'S TABLE"
   ]
  },
  {
   "cell_type": "code",
   "execution_count": null,
   "metadata": {
    "vscode": {
     "languageId": "sql"
    }
   },
   "outputs": [],
   "source": [
    "-- Active: 1713783766077@@127.0.0.1@5432@pawlsar@main\n",
    "CREATE TABLE owner(\n",
    "first_name VARCHAR(30) NOT NULL,\n",
    "last_name  VARCHAR(30) NOT NULL,\n",
    "email_address VARCHAR(30) NOT NULL,\n",
    "-- \tDog id's belonging and registered to the owner.\n",
    "dog_id INTEGER [] NOT NULL,\n",
    "-- \tFriends the owner has in the app\n",
    "friend_id INTEGER [],\n",
    "-- \tGroups the owner is involved in\n",
    "group_id INTEGER [],\n",
    "-- \tSocial platforms the owner belongs to.\n",
    "socials VARCHAR[],\n",
    "-- \tDescription of the owner.\n",
    "description TEXT,\n",
    "ID SERIAL PRIMARY KEY);"
   ]
  },
  {
   "cell_type": "markdown",
   "metadata": {},
   "source": [
    "#### ENUM TYPE FOR GENDER"
   ]
  },
  {
   "cell_type": "code",
   "execution_count": null,
   "metadata": {
    "vscode": {
     "languageId": "sql"
    }
   },
   "outputs": [],
   "source": [
    "CREATE TYPE sex_type AS enum('M','F');"
   ]
  },
  {
   "cell_type": "markdown",
   "metadata": {},
   "source": [
    "### DOG'S TABLE"
   ]
  },
  {
   "cell_type": "code",
   "execution_count": null,
   "metadata": {
    "vscode": {
     "languageId": "sql"
    }
   },
   "outputs": [],
   "source": [
    "CREATE TABLE dog(\n",
    "    name VARCHAR(30) NOT NULL,\n",
    "    breed VARCHAR(30) NOT NULL,\n",
    "    age VARCHAR(30) NOT NULL,\n",
    "    sex sex_type NOT NULL,\n",
    "    location VARCHAR(30) NOT NULL,\n",
    "    kspca_no VARCHAR(30) NOT NULL,\n",
    "    pawlsar_membership BOOLEAN NOT NULL,\n",
    "    canine_role VARCHAR(30),\n",
    "    dog_description TEXT,\n",
    "    lost_message TEXT,\n",
    "    owner_name VARCHAR(30) NOT NULL,\n",
    "    id SERIAL PRIMARY KEY\n",
    ");"
   ]
  },
  {
   "cell_type": "markdown",
   "metadata": {},
   "source": [
    "### SOCIALS"
   ]
  },
  {
   "cell_type": "code",
   "execution_count": null,
   "metadata": {
    "vscode": {
     "languageId": "sql"
    }
   },
   "outputs": [],
   "source": [
    "CREATE TABLE socials(\n",
    "    dog_id INTEGER REFERENCES dog(dog_id),\n",
    "    likes INTEGER,\n",
    "    followers INTEGER,\n",
    "    ratings INTEGER,\n",
    ");\n",
    "\n",
    "-- Study implemenation of\n",
    "-- posts,images,videos,reels,comments"
   ]
  },
  {
   "cell_type": "markdown",
   "metadata": {},
   "source": [
    "### TRAINING"
   ]
  },
  {
   "cell_type": "code",
   "execution_count": null,
   "metadata": {
    "vscode": {
     "languageId": "sql"
    }
   },
   "outputs": [],
   "source": [
    "CREATE TABLE training(\n",
    "    dog_id INTEGER REFERENCES dog(dog_id),\n",
    "    obedience BOOLEAN,\n",
    "    aggression BOOLEAN,\n",
    "    home_defence BOOLEAN,\n",
    "    personal_protection BOOLEAN,\n",
    "    socialiazation BOOLEAN,\n",
    "    potty_training BOOLEAN,\n",
    "    offleash_control BOOLEAN,\n",
    "    sniffing_tracking BOOLEAN\n",
    ");"
   ]
  },
  {
   "cell_type": "markdown",
   "metadata": {},
   "source": [
    "### MEDICAL"
   ]
  },
  {
   "cell_type": "code",
   "execution_count": null,
   "metadata": {
    "vscode": {
     "languageId": "sql"
    }
   },
   "outputs": [],
   "source": [
    "CREATE TABLE medical(\n",
    "    dog_id INTEGER REFERENCES dog(dog_id),\n",
    "    vaccines TEXT\n",
    "    last_vaccinated TIMESTAMP NOT NULL,\n",
    "    next_vaccination TIMESTAMP NOT NULL\n",
    ");"
   ]
  },
  {
   "cell_type": "markdown",
   "metadata": {},
   "source": [
    "### KSPCA CONTACTS"
   ]
  },
  {
   "cell_type": "code",
   "execution_count": null,
   "metadata": {
    "vscode": {
     "languageId": "sql"
    }
   },
   "outputs": [],
   "source": [
    "CREATE TABLE kspca_contacts(\n",
    "    dog_id INTEGER REFERENCES dog(dog_id),\n",
    "    location VARCHAR(30) NOT NULL,\n",
    "    email VARCHAR(30) NOT NULL,\n",
    "    website VARCHAR(45) NOT NULL\n",
    ");"
   ]
  },
  {
   "cell_type": "markdown",
   "metadata": {},
   "source": [
    "### BREEDING HISTORY"
   ]
  },
  {
   "cell_type": "code",
   "execution_count": null,
   "metadata": {
    "vscode": {
     "languageId": "sql"
    }
   },
   "outputs": [],
   "source": [
    "CREATE TABLE breeding_history(\n",
    "dog_id INTEGER REFERENCES dog(dog_id),\n",
    "pedigree_information TEXT,\n",
    "titles_achievments TEXT,\n",
    "health_screening TEXT,\n",
    "breeder_information TEXT,\n",
    "previous_litters TEXT, \n",
    ");"
   ]
  },
  {
   "cell_type": "markdown",
   "metadata": {},
   "source": [
    "### PAWLSAR FIND MY"
   ]
  },
  {
   "cell_type": "code",
   "execution_count": null,
   "metadata": {
    "vscode": {
     "languageId": "sql"
    }
   },
   "outputs": [],
   "source": [
    "CREATE TABLE findMy(\n",
    "    dog_id INTEGER REFERENCES dog(dog_id),\n",
    "    -- Link to image file.\n",
    "    qr_code VARCHAR(30) NOT NULL\n",
    "    qr_code VARCHAR(30) NOT NULL\n",
    "    location VARCHAR(30) NOT NULL\n",
    ")"
   ]
  }
 ],
 "metadata": {
  "language_info": {
   "name": "python"
  }
 },
 "nbformat": 4,
 "nbformat_minor": 2
}
